{
 "cells": [
  {
   "cell_type": "code",
   "execution_count": 7,
   "metadata": {},
   "outputs": [],
   "source": [
    "import requests \n",
    "def get_book_by_isbn(title):\n",
    "    url = f\"https://openlibrary.org/api/books?bibkeys=title:{title}&format=json&jscmd=data\"\n",
    "    response = requests.get(url)\n",
    "    return response.json()"
   ]
  },
  {
   "cell_type": "code",
   "execution_count": 8,
   "metadata": {},
   "outputs": [
    {
     "data": {
      "text/plain": [
       "{'title:Унесенные ветром': {'url': 'https://openlibrary.org/books/OL38564549M/Унесенные_ветром',\n",
       "  'key': '/books/OL38564549M',\n",
       "  'title': 'Унесенные ветром',\n",
       "  'subtitle': '1',\n",
       "  'authors': [{'url': 'https://openlibrary.org/authors/OL151749A/Margaret_Mitchell',\n",
       "    'name': 'Margaret Mitchell'}],\n",
       "  'pagination': '2 volumes',\n",
       "  'by_statement': 'Margaret Mitchell',\n",
       "  'identifiers': {'isbn_10': ['5237016472'],\n",
       "   'isbn_13': ['9785237016475'],\n",
       "   'oclc': ['42023856'],\n",
       "   'openlibrary': ['OL38564549M']},\n",
       "  'classifications': {'lc_classifications': ['PS3525.I972'],\n",
       "   'dewey_decimal_class': ['891.7']},\n",
       "  'publishers': [{'name': 'Izd-vo AST'}, {'name': 'Folio'}],\n",
       "  'publish_places': [{'name': 'Moskva'}, {'name': 'Kharʹkov'}],\n",
       "  'publish_date': '1999',\n",
       "  'subjects': [{'name': 'Pulitzer Prize Winner',\n",
       "    'url': 'https://openlibrary.org/subjects/pulitzer_prize_winner'},\n",
       "   {'name': 'award:pulitzer_prize=1937',\n",
       "    'url': 'https://openlibrary.org/subjects/award:pulitzer_prize=1937'},\n",
       "   {'name': 'award:pulitzer_prize=fiction',\n",
       "    'url': 'https://openlibrary.org/subjects/award:pulitzer_prize=fiction'},\n",
       "   {'name': 'Fiction', 'url': 'https://openlibrary.org/subjects/fiction'},\n",
       "   {'name': 'History', 'url': 'https://openlibrary.org/subjects/history'},\n",
       "   {'name': 'Women', 'url': 'https://openlibrary.org/subjects/women'},\n",
       "   {'name': 'Romans, nouvelles',\n",
       "    'url': 'https://openlibrary.org/subjects/romans,_nouvelles'},\n",
       "   {'name': 'Histoire', 'url': 'https://openlibrary.org/subjects/histoire'}],\n",
       "  'subject_places': [{'name': 'Georgia',\n",
       "    'url': 'https://openlibrary.org/subjects/place:georgia'},\n",
       "   {'name': 'Géorgie (État)',\n",
       "    'url': 'https://openlibrary.org/subjects/place:géorgie_(état)'}],\n",
       "  'subject_times': [{'name': 'Civil War, 1861-1865',\n",
       "    'url': 'https://openlibrary.org/subjects/time:civil_war,_1861-1865'},\n",
       "   {'name': '1861-1865 (Guerre de Sécession)',\n",
       "    'url': 'https://openlibrary.org/subjects/time:1861-1865_(guerre_de_sécession)'}],\n",
       "  'ebooks': [{'preview_url': 'https://archive.org/details/unesennyevetromr0000mitc',\n",
       "    'availability': 'borrow',\n",
       "    'formats': {},\n",
       "    'borrow_url': 'https://openlibrary.org/books/OL38564549M/Унесенные_ветром/borrow',\n",
       "    'checkedout': False}],\n",
       "  'cover': {'small': 'https://covers.openlibrary.org/b/id/14817291-S.jpg',\n",
       "   'medium': 'https://covers.openlibrary.org/b/id/14817291-M.jpg',\n",
       "   'large': 'https://covers.openlibrary.org/b/id/14817291-L.jpg'}}}"
      ]
     },
     "execution_count": 8,
     "metadata": {},
     "output_type": "execute_result"
    }
   ],
   "source": [
    "get_book_by_isbn('Унесенные ветром')"
   ]
  }
 ],
 "metadata": {
  "kernelspec": {
   "display_name": "venv",
   "language": "python",
   "name": "python3"
  },
  "language_info": {
   "codemirror_mode": {
    "name": "ipython",
    "version": 3
   },
   "file_extension": ".py",
   "mimetype": "text/x-python",
   "name": "python",
   "nbconvert_exporter": "python",
   "pygments_lexer": "ipython3",
   "version": "3.13.0"
  }
 },
 "nbformat": 4,
 "nbformat_minor": 2
}
